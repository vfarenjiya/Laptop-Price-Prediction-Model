{
 "cells": [
  {
   "cell_type": "code",
   "execution_count": 1,
   "id": "89a80748",
   "metadata": {
    "_cell_guid": "b1076dfc-b9ad-4769-8c92-a6c4dae69d19",
    "_uuid": "8f2839f25d086af736a60e9eeb907d3b93b6e0e5",
    "execution": {
     "iopub.execute_input": "2024-01-28T13:39:05.790414Z",
     "iopub.status.busy": "2024-01-28T13:39:05.790022Z",
     "iopub.status.idle": "2024-01-28T13:39:06.234344Z",
     "shell.execute_reply": "2024-01-28T13:39:06.232730Z"
    },
    "papermill": {
     "duration": 0.460919,
     "end_time": "2024-01-28T13:39:06.237097",
     "exception": false,
     "start_time": "2024-01-28T13:39:05.776178",
     "status": "completed"
    },
    "tags": []
   },
   "outputs": [
    {
     "name": "stdout",
     "output_type": "stream",
     "text": [
      "/kaggle/input/laptoppriceprediction/Laptop_price.csv\n"
     ]
    }
   ],
   "source": [
    "# This Python 3 environment comes with many helpful analytics libraries installed\n",
    "# It is defined by the kaggle/python Docker image: https://github.com/kaggle/docker-python\n",
    "# For example, here's several helpful packages to load\n",
    "\n",
    "import numpy as np # linear algebra\n",
    "import pandas as pd # data processing, CSV file I/O (e.g. pd.read_csv)\n",
    "\n",
    "# Input data files are available in the read-only \"../input/\" directory\n",
    "# For example, running this (by clicking run or pressing Shift+Enter) will list all files under the input directory\n",
    "\n",
    "import os\n",
    "for dirname, _, filenames in os.walk('/kaggle/input'):\n",
    "    for filename in filenames:\n",
    "        print(os.path.join(dirname, filename))\n",
    "\n",
    "# You can write up to 20GB to the current directory (/kaggle/working/) that gets preserved as output when you create a version using \"Save & Run All\" \n",
    "# You can also write temporary files to /kaggle/temp/, but they won't be saved outside of the current session"
   ]
  },
  {
   "cell_type": "code",
   "execution_count": 2,
   "id": "af94bf39",
   "metadata": {
    "execution": {
     "iopub.execute_input": "2024-01-28T13:39:06.261945Z",
     "iopub.status.busy": "2024-01-28T13:39:06.261417Z",
     "iopub.status.idle": "2024-01-28T13:39:06.306647Z",
     "shell.execute_reply": "2024-01-28T13:39:06.305366Z"
    },
    "papermill": {
     "duration": 0.060417,
     "end_time": "2024-01-28T13:39:06.309233",
     "exception": false,
     "start_time": "2024-01-28T13:39:06.248816",
     "status": "completed"
    },
    "tags": []
   },
   "outputs": [
    {
     "data": {
      "text/html": [
       "<div>\n",
       "<style scoped>\n",
       "    .dataframe tbody tr th:only-of-type {\n",
       "        vertical-align: middle;\n",
       "    }\n",
       "\n",
       "    .dataframe tbody tr th {\n",
       "        vertical-align: top;\n",
       "    }\n",
       "\n",
       "    .dataframe thead th {\n",
       "        text-align: right;\n",
       "    }\n",
       "</style>\n",
       "<table border=\"1\" class=\"dataframe\">\n",
       "  <thead>\n",
       "    <tr style=\"text-align: right;\">\n",
       "      <th></th>\n",
       "      <th>Brand</th>\n",
       "      <th>Processor_Speed</th>\n",
       "      <th>RAM_Size</th>\n",
       "      <th>Storage_Capacity</th>\n",
       "      <th>Screen_Size</th>\n",
       "      <th>Weight</th>\n",
       "      <th>Price</th>\n",
       "    </tr>\n",
       "  </thead>\n",
       "  <tbody>\n",
       "    <tr>\n",
       "      <th>0</th>\n",
       "      <td>Asus</td>\n",
       "      <td>3.830296</td>\n",
       "      <td>16</td>\n",
       "      <td>512</td>\n",
       "      <td>11.185147</td>\n",
       "      <td>2.641094</td>\n",
       "      <td>17395.093065</td>\n",
       "    </tr>\n",
       "    <tr>\n",
       "      <th>1</th>\n",
       "      <td>Acer</td>\n",
       "      <td>2.912833</td>\n",
       "      <td>4</td>\n",
       "      <td>1000</td>\n",
       "      <td>11.311372</td>\n",
       "      <td>3.260012</td>\n",
       "      <td>31607.605919</td>\n",
       "    </tr>\n",
       "    <tr>\n",
       "      <th>2</th>\n",
       "      <td>Lenovo</td>\n",
       "      <td>3.241627</td>\n",
       "      <td>4</td>\n",
       "      <td>256</td>\n",
       "      <td>11.853023</td>\n",
       "      <td>2.029061</td>\n",
       "      <td>9291.023542</td>\n",
       "    </tr>\n",
       "    <tr>\n",
       "      <th>3</th>\n",
       "      <td>Acer</td>\n",
       "      <td>3.806248</td>\n",
       "      <td>16</td>\n",
       "      <td>512</td>\n",
       "      <td>12.280360</td>\n",
       "      <td>4.573865</td>\n",
       "      <td>17436.728334</td>\n",
       "    </tr>\n",
       "    <tr>\n",
       "      <th>4</th>\n",
       "      <td>Acer</td>\n",
       "      <td>3.268097</td>\n",
       "      <td>32</td>\n",
       "      <td>1000</td>\n",
       "      <td>14.990877</td>\n",
       "      <td>4.193472</td>\n",
       "      <td>32917.990718</td>\n",
       "    </tr>\n",
       "  </tbody>\n",
       "</table>\n",
       "</div>"
      ],
      "text/plain": [
       "    Brand  Processor_Speed  RAM_Size  Storage_Capacity  Screen_Size    Weight  \\\n",
       "0    Asus         3.830296        16               512    11.185147  2.641094   \n",
       "1    Acer         2.912833         4              1000    11.311372  3.260012   \n",
       "2  Lenovo         3.241627         4               256    11.853023  2.029061   \n",
       "3    Acer         3.806248        16               512    12.280360  4.573865   \n",
       "4    Acer         3.268097        32              1000    14.990877  4.193472   \n",
       "\n",
       "          Price  \n",
       "0  17395.093065  \n",
       "1  31607.605919  \n",
       "2   9291.023542  \n",
       "3  17436.728334  \n",
       "4  32917.990718  "
      ]
     },
     "execution_count": 2,
     "metadata": {},
     "output_type": "execute_result"
    }
   ],
   "source": [
    "laptops=pd.read_csv(\"/kaggle/input/laptoppriceprediction/Laptop_price.csv\")\n",
    "laptops.head()"
   ]
  },
  {
   "cell_type": "code",
   "execution_count": 3,
   "id": "aca63247",
   "metadata": {
    "execution": {
     "iopub.execute_input": "2024-01-28T13:39:06.333887Z",
     "iopub.status.busy": "2024-01-28T13:39:06.333478Z",
     "iopub.status.idle": "2024-01-28T13:39:06.360932Z",
     "shell.execute_reply": "2024-01-28T13:39:06.360134Z"
    },
    "papermill": {
     "duration": 0.042723,
     "end_time": "2024-01-28T13:39:06.363498",
     "exception": false,
     "start_time": "2024-01-28T13:39:06.320775",
     "status": "completed"
    },
    "tags": []
   },
   "outputs": [
    {
     "name": "stdout",
     "output_type": "stream",
     "text": [
      "<class 'pandas.core.frame.DataFrame'>\n",
      "RangeIndex: 1000 entries, 0 to 999\n",
      "Data columns (total 7 columns):\n",
      " #   Column            Non-Null Count  Dtype  \n",
      "---  ------            --------------  -----  \n",
      " 0   Brand             1000 non-null   object \n",
      " 1   Processor_Speed   1000 non-null   float64\n",
      " 2   RAM_Size          1000 non-null   int64  \n",
      " 3   Storage_Capacity  1000 non-null   int64  \n",
      " 4   Screen_Size       1000 non-null   float64\n",
      " 5   Weight            1000 non-null   float64\n",
      " 6   Price             1000 non-null   float64\n",
      "dtypes: float64(4), int64(2), object(1)\n",
      "memory usage: 54.8+ KB\n"
     ]
    }
   ],
   "source": [
    "laptops.info()"
   ]
  },
  {
   "cell_type": "code",
   "execution_count": 4,
   "id": "26e61c6f",
   "metadata": {
    "execution": {
     "iopub.execute_input": "2024-01-28T13:39:06.389242Z",
     "iopub.status.busy": "2024-01-28T13:39:06.388038Z",
     "iopub.status.idle": "2024-01-28T13:39:06.396558Z",
     "shell.execute_reply": "2024-01-28T13:39:06.395522Z"
    },
    "papermill": {
     "duration": 0.023736,
     "end_time": "2024-01-28T13:39:06.398900",
     "exception": false,
     "start_time": "2024-01-28T13:39:06.375164",
     "status": "completed"
    },
    "tags": []
   },
   "outputs": [
    {
     "data": {
      "text/plain": [
       "Brand\n",
       "Dell      210\n",
       "Asus      206\n",
       "Acer      204\n",
       "Lenovo    190\n",
       "HP        190\n",
       "Name: count, dtype: int64"
      ]
     },
     "execution_count": 4,
     "metadata": {},
     "output_type": "execute_result"
    }
   ],
   "source": [
    "laptops[\"Brand\"].value_counts()"
   ]
  },
  {
   "cell_type": "code",
   "execution_count": 5,
   "id": "f2416bf3",
   "metadata": {
    "execution": {
     "iopub.execute_input": "2024-01-28T13:39:06.424602Z",
     "iopub.status.busy": "2024-01-28T13:39:06.423923Z",
     "iopub.status.idle": "2024-01-28T13:39:06.456403Z",
     "shell.execute_reply": "2024-01-28T13:39:06.455208Z"
    },
    "papermill": {
     "duration": 0.048492,
     "end_time": "2024-01-28T13:39:06.459332",
     "exception": false,
     "start_time": "2024-01-28T13:39:06.410840",
     "status": "completed"
    },
    "tags": []
   },
   "outputs": [
    {
     "data": {
      "text/html": [
       "<div>\n",
       "<style scoped>\n",
       "    .dataframe tbody tr th:only-of-type {\n",
       "        vertical-align: middle;\n",
       "    }\n",
       "\n",
       "    .dataframe tbody tr th {\n",
       "        vertical-align: top;\n",
       "    }\n",
       "\n",
       "    .dataframe thead th {\n",
       "        text-align: right;\n",
       "    }\n",
       "</style>\n",
       "<table border=\"1\" class=\"dataframe\">\n",
       "  <thead>\n",
       "    <tr style=\"text-align: right;\">\n",
       "      <th></th>\n",
       "      <th>Processor_Speed</th>\n",
       "      <th>RAM_Size</th>\n",
       "      <th>Storage_Capacity</th>\n",
       "      <th>Screen_Size</th>\n",
       "      <th>Weight</th>\n",
       "      <th>Price</th>\n",
       "    </tr>\n",
       "  </thead>\n",
       "  <tbody>\n",
       "    <tr>\n",
       "      <th>count</th>\n",
       "      <td>1000.000000</td>\n",
       "      <td>1000.000000</td>\n",
       "      <td>1000.000000</td>\n",
       "      <td>1000.000000</td>\n",
       "      <td>1000.000000</td>\n",
       "      <td>1000.000000</td>\n",
       "    </tr>\n",
       "    <tr>\n",
       "      <th>mean</th>\n",
       "      <td>2.750611</td>\n",
       "      <td>15.500000</td>\n",
       "      <td>584.576000</td>\n",
       "      <td>14.056790</td>\n",
       "      <td>3.466919</td>\n",
       "      <td>19604.187963</td>\n",
       "    </tr>\n",
       "    <tr>\n",
       "      <th>std</th>\n",
       "      <td>0.731796</td>\n",
       "      <td>10.988665</td>\n",
       "      <td>313.438517</td>\n",
       "      <td>1.705882</td>\n",
       "      <td>0.866541</td>\n",
       "      <td>9406.064880</td>\n",
       "    </tr>\n",
       "    <tr>\n",
       "      <th>min</th>\n",
       "      <td>1.511580</td>\n",
       "      <td>4.000000</td>\n",
       "      <td>256.000000</td>\n",
       "      <td>11.012111</td>\n",
       "      <td>2.000560</td>\n",
       "      <td>8570.012950</td>\n",
       "    </tr>\n",
       "    <tr>\n",
       "      <th>25%</th>\n",
       "      <td>2.089246</td>\n",
       "      <td>8.000000</td>\n",
       "      <td>256.000000</td>\n",
       "      <td>12.635523</td>\n",
       "      <td>2.717211</td>\n",
       "      <td>10114.012948</td>\n",
       "    </tr>\n",
       "    <tr>\n",
       "      <th>50%</th>\n",
       "      <td>2.760885</td>\n",
       "      <td>16.000000</td>\n",
       "      <td>512.000000</td>\n",
       "      <td>14.099643</td>\n",
       "      <td>3.464630</td>\n",
       "      <td>17287.241878</td>\n",
       "    </tr>\n",
       "    <tr>\n",
       "      <th>75%</th>\n",
       "      <td>3.362610</td>\n",
       "      <td>32.000000</td>\n",
       "      <td>1000.000000</td>\n",
       "      <td>15.528590</td>\n",
       "      <td>4.212583</td>\n",
       "      <td>31566.214754</td>\n",
       "    </tr>\n",
       "    <tr>\n",
       "      <th>max</th>\n",
       "      <td>3.998534</td>\n",
       "      <td>32.000000</td>\n",
       "      <td>1000.000000</td>\n",
       "      <td>16.985737</td>\n",
       "      <td>4.990728</td>\n",
       "      <td>33503.935037</td>\n",
       "    </tr>\n",
       "  </tbody>\n",
       "</table>\n",
       "</div>"
      ],
      "text/plain": [
       "       Processor_Speed     RAM_Size  Storage_Capacity  Screen_Size  \\\n",
       "count      1000.000000  1000.000000       1000.000000  1000.000000   \n",
       "mean          2.750611    15.500000        584.576000    14.056790   \n",
       "std           0.731796    10.988665        313.438517     1.705882   \n",
       "min           1.511580     4.000000        256.000000    11.012111   \n",
       "25%           2.089246     8.000000        256.000000    12.635523   \n",
       "50%           2.760885    16.000000        512.000000    14.099643   \n",
       "75%           3.362610    32.000000       1000.000000    15.528590   \n",
       "max           3.998534    32.000000       1000.000000    16.985737   \n",
       "\n",
       "            Weight         Price  \n",
       "count  1000.000000   1000.000000  \n",
       "mean      3.466919  19604.187963  \n",
       "std       0.866541   9406.064880  \n",
       "min       2.000560   8570.012950  \n",
       "25%       2.717211  10114.012948  \n",
       "50%       3.464630  17287.241878  \n",
       "75%       4.212583  31566.214754  \n",
       "max       4.990728  33503.935037  "
      ]
     },
     "execution_count": 5,
     "metadata": {},
     "output_type": "execute_result"
    }
   ],
   "source": [
    "laptops.describe()"
   ]
  },
  {
   "cell_type": "code",
   "execution_count": 6,
   "id": "91ffc087",
   "metadata": {
    "execution": {
     "iopub.execute_input": "2024-01-28T13:39:06.486517Z",
     "iopub.status.busy": "2024-01-28T13:39:06.485990Z",
     "iopub.status.idle": "2024-01-28T13:39:08.208874Z",
     "shell.execute_reply": "2024-01-28T13:39:08.207752Z"
    },
    "papermill": {
     "duration": 1.740034,
     "end_time": "2024-01-28T13:39:08.211607",
     "exception": false,
     "start_time": "2024-01-28T13:39:06.471573",
     "status": "completed"
    },
    "tags": []
   },
   "outputs": [
    {
     "data": {
      "image/png": "[encoded data removed]",
      "text/plain": [
       "<Figure size 1200x800 with 6 Axes>"
      ]
     },
     "metadata": {},
     "output_type": "display_data"
    }
   ],
   "source": [
    "import matplotlib.pyplot as plt\n",
    "laptops.hist(bins=50,figsize=(12,8))\n",
    "plt.show()"
   ]
  },
  {
   "cell_type": "code",
   "execution_count": 7,
   "id": "212c7a5a",
   "metadata": {
    "execution": {
     "iopub.execute_input": "2024-01-28T13:39:08.239861Z",
     "iopub.status.busy": "2024-01-28T13:39:08.239092Z",
     "iopub.status.idle": "2024-01-28T13:39:09.703664Z",
     "shell.execute_reply": "2024-01-28T13:39:09.702474Z"
    },
    "papermill": {
     "duration": 1.481996,
     "end_time": "2024-01-28T13:39:09.706627",
     "exception": false,
     "start_time": "2024-01-28T13:39:08.224631",
     "status": "completed"
    },
    "tags": []
   },
   "outputs": [],
   "source": [
    "from sklearn.model_selection import train_test_split\n",
    "train_set, test_set = train_test_split(laptops, test_size=0.2, random_state=42)"
   ]
  },
  {
   "cell_type": "code",
   "execution_count": 8,
   "id": "d4e1cde8",
   "metadata": {
    "execution": {
     "iopub.execute_input": "2024-01-28T13:39:09.735628Z",
     "iopub.status.busy": "2024-01-28T13:39:09.735224Z",
     "iopub.status.idle": "2024-01-28T13:39:09.741419Z",
     "shell.execute_reply": "2024-01-28T13:39:09.740304Z"
    },
    "papermill": {
     "duration": 0.024616,
     "end_time": "2024-01-28T13:39:09.744305",
     "exception": false,
     "start_time": "2024-01-28T13:39:09.719689",
     "status": "completed"
    },
    "tags": []
   },
   "outputs": [
    {
     "name": "stdout",
     "output_type": "stream",
     "text": [
      "800 200\n"
     ]
    }
   ],
   "source": [
    "print(len(train_set),len(test_set))\n"
   ]
  },
  {
   "cell_type": "code",
   "execution_count": 9,
   "id": "bc1ee132",
   "metadata": {
    "execution": {
     "iopub.execute_input": "2024-01-28T13:39:09.773280Z",
     "iopub.status.busy": "2024-01-28T13:39:09.772788Z",
     "iopub.status.idle": "2024-01-28T13:39:09.780001Z",
     "shell.execute_reply": "2024-01-28T13:39:09.778355Z"
    },
    "papermill": {
     "duration": 0.02586,
     "end_time": "2024-01-28T13:39:09.783688",
     "exception": false,
     "start_time": "2024-01-28T13:39:09.757828",
     "status": "completed"
    },
    "tags": []
   },
   "outputs": [],
   "source": [
    "train_set_num=train_set.select_dtypes(include=[np.number])"
   ]
  },
  {
   "cell_type": "code",
   "execution_count": 10,
   "id": "c5d2bef4",
   "metadata": {
    "execution": {
     "iopub.execute_input": "2024-01-28T13:39:09.812379Z",
     "iopub.status.busy": "2024-01-28T13:39:09.811335Z",
     "iopub.status.idle": "2024-01-28T13:39:09.829141Z",
     "shell.execute_reply": "2024-01-28T13:39:09.827918Z"
    },
    "papermill": {
     "duration": 0.035104,
     "end_time": "2024-01-28T13:39:09.831782",
     "exception": false,
     "start_time": "2024-01-28T13:39:09.796678",
     "status": "completed"
    },
    "tags": []
   },
   "outputs": [
    {
     "data": {
      "text/html": [
       "<div>\n",
       "<style scoped>\n",
       "    .dataframe tbody tr th:only-of-type {\n",
       "        vertical-align: middle;\n",
       "    }\n",
       "\n",
       "    .dataframe tbody tr th {\n",
       "        vertical-align: top;\n",
       "    }\n",
       "\n",
       "    .dataframe thead th {\n",
       "        text-align: right;\n",
       "    }\n",
       "</style>\n",
       "<table border=\"1\" class=\"dataframe\">\n",
       "  <thead>\n",
       "    <tr style=\"text-align: right;\">\n",
       "      <th></th>\n",
       "      <th>Processor_Speed</th>\n",
       "      <th>RAM_Size</th>\n",
       "      <th>Storage_Capacity</th>\n",
       "      <th>Screen_Size</th>\n",
       "      <th>Weight</th>\n",
       "      <th>Price</th>\n",
       "    </tr>\n",
       "  </thead>\n",
       "  <tbody>\n",
       "    <tr>\n",
       "      <th>Processor_Speed</th>\n",
       "      <td>1.000000</td>\n",
       "      <td>0.026077</td>\n",
       "      <td>-0.052729</td>\n",
       "      <td>-0.039526</td>\n",
       "      <td>-0.046223</td>\n",
       "      <td>-0.035791</td>\n",
       "    </tr>\n",
       "    <tr>\n",
       "      <th>RAM_Size</th>\n",
       "      <td>0.026077</td>\n",
       "      <td>1.000000</td>\n",
       "      <td>-0.003512</td>\n",
       "      <td>-0.029216</td>\n",
       "      <td>-0.030493</td>\n",
       "      <td>0.055851</td>\n",
       "    </tr>\n",
       "    <tr>\n",
       "      <th>Storage_Capacity</th>\n",
       "      <td>-0.052729</td>\n",
       "      <td>-0.003512</td>\n",
       "      <td>1.000000</td>\n",
       "      <td>-0.038800</td>\n",
       "      <td>0.047349</td>\n",
       "      <td>0.997884</td>\n",
       "    </tr>\n",
       "    <tr>\n",
       "      <th>Screen_Size</th>\n",
       "      <td>-0.039526</td>\n",
       "      <td>-0.029216</td>\n",
       "      <td>-0.038800</td>\n",
       "      <td>1.000000</td>\n",
       "      <td>0.023276</td>\n",
       "      <td>-0.037513</td>\n",
       "    </tr>\n",
       "    <tr>\n",
       "      <th>Weight</th>\n",
       "      <td>-0.046223</td>\n",
       "      <td>-0.030493</td>\n",
       "      <td>0.047349</td>\n",
       "      <td>0.023276</td>\n",
       "      <td>1.000000</td>\n",
       "      <td>0.044200</td>\n",
       "    </tr>\n",
       "    <tr>\n",
       "      <th>Price</th>\n",
       "      <td>-0.035791</td>\n",
       "      <td>0.055851</td>\n",
       "      <td>0.997884</td>\n",
       "      <td>-0.037513</td>\n",
       "      <td>0.044200</td>\n",
       "      <td>1.000000</td>\n",
       "    </tr>\n",
       "  </tbody>\n",
       "</table>\n",
       "</div>"
      ],
      "text/plain": [
       "                  Processor_Speed  RAM_Size  Storage_Capacity  Screen_Size  \\\n",
       "Processor_Speed          1.000000  0.026077         -0.052729    -0.039526   \n",
       "RAM_Size                 0.026077  1.000000         -0.003512    -0.029216   \n",
       "Storage_Capacity        -0.052729 -0.003512          1.000000    -0.038800   \n",
       "Screen_Size             -0.039526 -0.029216         -0.038800     1.000000   \n",
       "Weight                  -0.046223 -0.030493          0.047349     0.023276   \n",
       "Price                   -0.035791  0.055851          0.997884    -0.037513   \n",
       "\n",
       "                    Weight     Price  \n",
       "Processor_Speed  -0.046223 -0.035791  \n",
       "RAM_Size         -0.030493  0.055851  \n",
       "Storage_Capacity  0.047349  0.997884  \n",
       "Screen_Size       0.023276 -0.037513  \n",
       "Weight            1.000000  0.044200  \n",
       "Price             0.044200  1.000000  "
      ]
     },
     "execution_count": 10,
     "metadata": {},
     "output_type": "execute_result"
    }
   ],
   "source": [
    "corr_matrix=train_set_num.corr()\n",
    "corr_matrix"
   ]
  },
  {
   "cell_type": "code",
   "execution_count": 11,
   "id": "fe264c88",
   "metadata": {
    "execution": {
     "iopub.execute_input": "2024-01-28T13:39:09.861841Z",
     "iopub.status.busy": "2024-01-28T13:39:09.860525Z",
     "iopub.status.idle": "2024-01-28T13:39:09.870650Z",
     "shell.execute_reply": "2024-01-28T13:39:09.869517Z"
    },
    "papermill": {
     "duration": 0.028087,
     "end_time": "2024-01-28T13:39:09.873546",
     "exception": false,
     "start_time": "2024-01-28T13:39:09.845459",
     "status": "completed"
    },
    "tags": []
   },
   "outputs": [
    {
     "data": {
      "text/plain": [
       "Price               1.000000\n",
       "Storage_Capacity    0.997884\n",
       "RAM_Size            0.055851\n",
       "Weight              0.044200\n",
       "Processor_Speed    -0.035791\n",
       "Screen_Size        -0.037513\n",
       "Name: Price, dtype: float64"
      ]
     },
     "execution_count": 11,
     "metadata": {},
     "output_type": "execute_result"
    }
   ],
   "source": [
    "corr_matrix[\"Price\"].sort_values(ascending=False)"
   ]
  },
  {
   "cell_type": "code",
   "execution_count": 12,
   "id": "8efbce73",
   "metadata": {
    "execution": {
     "iopub.execute_input": "2024-01-28T13:39:09.903733Z",
     "iopub.status.busy": "2024-01-28T13:39:09.903341Z",
     "iopub.status.idle": "2024-01-28T13:39:10.196391Z",
     "shell.execute_reply": "2024-01-28T13:39:10.195282Z"
    },
    "papermill": {
     "duration": 0.311622,
     "end_time": "2024-01-28T13:39:10.199080",
     "exception": false,
     "start_time": "2024-01-28T13:39:09.887458",
     "status": "completed"
    },
    "tags": []
   },
   "outputs": [
    {
     "data": {
      "image/png": "[encoded data removed]",
      "text/plain": [
       "<Figure size 640x480 with 1 Axes>"
      ]
     },
     "metadata": {},
     "output_type": "display_data"
    }
   ],
   "source": [
    "train_set.plot(kind=\"scatter\", x=\"Storage_Capacity\", y= \"Price\", grid=True)\n",
    "plt.show()"
   ]
  },
  {
   "cell_type": "code",
   "execution_count": 13,
   "id": "dfc2552a",
   "metadata": {
    "execution": {
     "iopub.execute_input": "2024-01-28T13:39:10.228713Z",
     "iopub.status.busy": "2024-01-28T13:39:10.228328Z",
     "iopub.status.idle": "2024-01-28T13:39:10.244399Z",
     "shell.execute_reply": "2024-01-28T13:39:10.243301Z"
    },
    "papermill": {
     "duration": 0.033842,
     "end_time": "2024-01-28T13:39:10.246727",
     "exception": false,
     "start_time": "2024-01-28T13:39:10.212885",
     "status": "completed"
    },
    "tags": []
   },
   "outputs": [
    {
     "data": {
      "text/html": [
       "<div>\n",
       "<style scoped>\n",
       "    .dataframe tbody tr th:only-of-type {\n",
       "        vertical-align: middle;\n",
       "    }\n",
       "\n",
       "    .dataframe tbody tr th {\n",
       "        vertical-align: top;\n",
       "    }\n",
       "\n",
       "    .dataframe thead th {\n",
       "        text-align: right;\n",
       "    }\n",
       "</style>\n",
       "<table border=\"1\" class=\"dataframe\">\n",
       "  <thead>\n",
       "    <tr style=\"text-align: right;\">\n",
       "      <th></th>\n",
       "      <th>Processor_Speed</th>\n",
       "      <th>RAM_Size</th>\n",
       "      <th>Storage_Capacity</th>\n",
       "      <th>Screen_Size</th>\n",
       "      <th>Weight</th>\n",
       "      <th>Price</th>\n",
       "    </tr>\n",
       "  </thead>\n",
       "  <tbody>\n",
       "    <tr>\n",
       "      <th>Processor_Speed</th>\n",
       "      <td>1.000000</td>\n",
       "      <td>0.026077</td>\n",
       "      <td>-0.052729</td>\n",
       "      <td>-0.039526</td>\n",
       "      <td>-0.046223</td>\n",
       "      <td>-0.035791</td>\n",
       "    </tr>\n",
       "    <tr>\n",
       "      <th>RAM_Size</th>\n",
       "      <td>0.026077</td>\n",
       "      <td>1.000000</td>\n",
       "      <td>-0.003512</td>\n",
       "      <td>-0.029216</td>\n",
       "      <td>-0.030493</td>\n",
       "      <td>0.055851</td>\n",
       "    </tr>\n",
       "    <tr>\n",
       "      <th>Storage_Capacity</th>\n",
       "      <td>-0.052729</td>\n",
       "      <td>-0.003512</td>\n",
       "      <td>1.000000</td>\n",
       "      <td>-0.038800</td>\n",
       "      <td>0.047349</td>\n",
       "      <td>0.997884</td>\n",
       "    </tr>\n",
       "    <tr>\n",
       "      <th>Screen_Size</th>\n",
       "      <td>-0.039526</td>\n",
       "      <td>-0.029216</td>\n",
       "      <td>-0.038800</td>\n",
       "      <td>1.000000</td>\n",
       "      <td>0.023276</td>\n",
       "      <td>-0.037513</td>\n",
       "    </tr>\n",
       "    <tr>\n",
       "      <th>Weight</th>\n",
       "      <td>-0.046223</td>\n",
       "      <td>-0.030493</td>\n",
       "      <td>0.047349</td>\n",
       "      <td>0.023276</td>\n",
       "      <td>1.000000</td>\n",
       "      <td>0.044200</td>\n",
       "    </tr>\n",
       "    <tr>\n",
       "      <th>Price</th>\n",
       "      <td>-0.035791</td>\n",
       "      <td>0.055851</td>\n",
       "      <td>0.997884</td>\n",
       "      <td>-0.037513</td>\n",
       "      <td>0.044200</td>\n",
       "      <td>1.000000</td>\n",
       "    </tr>\n",
       "  </tbody>\n",
       "</table>\n",
       "</div>"
      ],
      "text/plain": [
       "                  Processor_Speed  RAM_Size  Storage_Capacity  Screen_Size  \\\n",
       "Processor_Speed          1.000000  0.026077         -0.052729    -0.039526   \n",
       "RAM_Size                 0.026077  1.000000         -0.003512    -0.029216   \n",
       "Storage_Capacity        -0.052729 -0.003512          1.000000    -0.038800   \n",
       "Screen_Size             -0.039526 -0.029216         -0.038800     1.000000   \n",
       "Weight                  -0.046223 -0.030493          0.047349     0.023276   \n",
       "Price                   -0.035791  0.055851          0.997884    -0.037513   \n",
       "\n",
       "                    Weight     Price  \n",
       "Processor_Speed  -0.046223 -0.035791  \n",
       "RAM_Size         -0.030493  0.055851  \n",
       "Storage_Capacity  0.047349  0.997884  \n",
       "Screen_Size       0.023276 -0.037513  \n",
       "Weight            1.000000  0.044200  \n",
       "Price             0.044200  1.000000  "
      ]
     },
     "execution_count": 13,
     "metadata": {},
     "output_type": "execute_result"
    }
   ],
   "source": [
    "corr_matrix=train_set_num.corr()\n",
    "corr_matrix"
   ]
  },
  {
   "cell_type": "code",
   "execution_count": 14,
   "id": "b2c7b65b",
   "metadata": {
    "execution": {
     "iopub.execute_input": "2024-01-28T13:39:10.277103Z",
     "iopub.status.busy": "2024-01-28T13:39:10.276677Z",
     "iopub.status.idle": "2024-01-28T13:39:10.286275Z",
     "shell.execute_reply": "2024-01-28T13:39:10.285262Z"
    },
    "papermill": {
     "duration": 0.027694,
     "end_time": "2024-01-28T13:39:10.288609",
     "exception": false,
     "start_time": "2024-01-28T13:39:10.260915",
     "status": "completed"
    },
    "tags": []
   },
   "outputs": [
    {
     "data": {
      "text/plain": [
       "Price               1.000000\n",
       "Storage_Capacity    0.997884\n",
       "RAM_Size            0.055851\n",
       "Weight              0.044200\n",
       "Processor_Speed    -0.035791\n",
       "Screen_Size        -0.037513\n",
       "Name: Price, dtype: float64"
      ]
     },
     "execution_count": 14,
     "metadata": {},
     "output_type": "execute_result"
    }
   ],
   "source": [
    "corr_matrix[\"Price\"].sort_values(ascending=False)"
   ]
  },
  {
   "cell_type": "code",
   "execution_count": 15,
   "id": "d1ff2f07",
   "metadata": {
    "execution": {
     "iopub.execute_input": "2024-01-28T13:39:10.319776Z",
     "iopub.status.busy": "2024-01-28T13:39:10.319390Z",
     "iopub.status.idle": "2024-01-28T13:39:10.329674Z",
     "shell.execute_reply": "2024-01-28T13:39:10.328410Z"
    },
    "papermill": {
     "duration": 0.029375,
     "end_time": "2024-01-28T13:39:10.332277",
     "exception": false,
     "start_time": "2024-01-28T13:39:10.302902",
     "status": "completed"
    },
    "tags": []
   },
   "outputs": [
    {
     "data": {
      "text/plain": [
       "29     31747.604606\n",
       "535    17515.915181\n",
       "695    17073.491966\n",
       "557    18399.777107\n",
       "836    17787.920193\n",
       "           ...     \n",
       "106    10711.444213\n",
       "270    32205.991801\n",
       "860    31500.579122\n",
       "435     9059.269729\n",
       "102    10462.141839\n",
       "Name: Price, Length: 800, dtype: float64"
      ]
     },
     "execution_count": 15,
     "metadata": {},
     "output_type": "execute_result"
    }
   ],
   "source": [
    "laptops_label=train_set_num[\"Price\"].copy()\n",
    "laptops_label"
   ]
  },
  {
   "cell_type": "code",
   "execution_count": 16,
   "id": "1f4d5fa4",
   "metadata": {
    "execution": {
     "iopub.execute_input": "2024-01-28T13:39:10.364079Z",
     "iopub.status.busy": "2024-01-28T13:39:10.363609Z",
     "iopub.status.idle": "2024-01-28T13:39:10.382268Z",
     "shell.execute_reply": "2024-01-28T13:39:10.381446Z"
    },
    "papermill": {
     "duration": 0.037836,
     "end_time": "2024-01-28T13:39:10.384980",
     "exception": false,
     "start_time": "2024-01-28T13:39:10.347144",
     "status": "completed"
    },
    "tags": []
   },
   "outputs": [
    {
     "data": {
      "text/html": [
       "<div>\n",
       "<style scoped>\n",
       "    .dataframe tbody tr th:only-of-type {\n",
       "        vertical-align: middle;\n",
       "    }\n",
       "\n",
       "    .dataframe tbody tr th {\n",
       "        vertical-align: top;\n",
       "    }\n",
       "\n",
       "    .dataframe thead th {\n",
       "        text-align: right;\n",
       "    }\n",
       "</style>\n",
       "<table border=\"1\" class=\"dataframe\">\n",
       "  <thead>\n",
       "    <tr style=\"text-align: right;\">\n",
       "      <th></th>\n",
       "      <th>Processor_Speed</th>\n",
       "      <th>RAM_Size</th>\n",
       "      <th>Storage_Capacity</th>\n",
       "      <th>Screen_Size</th>\n",
       "      <th>Weight</th>\n",
       "    </tr>\n",
       "  </thead>\n",
       "  <tbody>\n",
       "    <tr>\n",
       "      <th>29</th>\n",
       "      <td>3.799639</td>\n",
       "      <td>8</td>\n",
       "      <td>1000</td>\n",
       "      <td>12.853007</td>\n",
       "      <td>2.151678</td>\n",
       "    </tr>\n",
       "    <tr>\n",
       "      <th>535</th>\n",
       "      <td>3.298004</td>\n",
       "      <td>16</td>\n",
       "      <td>512</td>\n",
       "      <td>15.144079</td>\n",
       "      <td>2.587267</td>\n",
       "    </tr>\n",
       "    <tr>\n",
       "      <th>695</th>\n",
       "      <td>2.433129</td>\n",
       "      <td>4</td>\n",
       "      <td>512</td>\n",
       "      <td>15.046398</td>\n",
       "      <td>2.264456</td>\n",
       "    </tr>\n",
       "    <tr>\n",
       "      <th>557</th>\n",
       "      <td>3.313144</td>\n",
       "      <td>32</td>\n",
       "      <td>512</td>\n",
       "      <td>12.836309</td>\n",
       "      <td>2.376126</td>\n",
       "    </tr>\n",
       "    <tr>\n",
       "      <th>836</th>\n",
       "      <td>3.162279</td>\n",
       "      <td>16</td>\n",
       "      <td>512</td>\n",
       "      <td>14.701664</td>\n",
       "      <td>2.943887</td>\n",
       "    </tr>\n",
       "    <tr>\n",
       "      <th>...</th>\n",
       "      <td>...</td>\n",
       "      <td>...</td>\n",
       "      <td>...</td>\n",
       "      <td>...</td>\n",
       "      <td>...</td>\n",
       "    </tr>\n",
       "    <tr>\n",
       "      <th>106</th>\n",
       "      <td>1.953589</td>\n",
       "      <td>32</td>\n",
       "      <td>256</td>\n",
       "      <td>14.320274</td>\n",
       "      <td>3.534916</td>\n",
       "    </tr>\n",
       "    <tr>\n",
       "      <th>270</th>\n",
       "      <td>2.096943</td>\n",
       "      <td>16</td>\n",
       "      <td>1000</td>\n",
       "      <td>14.492863</td>\n",
       "      <td>4.989697</td>\n",
       "    </tr>\n",
       "    <tr>\n",
       "      <th>860</th>\n",
       "      <td>2.884506</td>\n",
       "      <td>4</td>\n",
       "      <td>1000</td>\n",
       "      <td>11.458639</td>\n",
       "      <td>4.942381</td>\n",
       "    </tr>\n",
       "    <tr>\n",
       "      <th>435</th>\n",
       "      <td>2.074887</td>\n",
       "      <td>4</td>\n",
       "      <td>256</td>\n",
       "      <td>15.417373</td>\n",
       "      <td>2.991174</td>\n",
       "    </tr>\n",
       "    <tr>\n",
       "      <th>102</th>\n",
       "      <td>1.532505</td>\n",
       "      <td>32</td>\n",
       "      <td>256</td>\n",
       "      <td>13.582248</td>\n",
       "      <td>3.956279</td>\n",
       "    </tr>\n",
       "  </tbody>\n",
       "</table>\n",
       "<p>800 rows × 5 columns</p>\n",
       "</div>"
      ],
      "text/plain": [
       "     Processor_Speed  RAM_Size  Storage_Capacity  Screen_Size    Weight\n",
       "29          3.799639         8              1000    12.853007  2.151678\n",
       "535         3.298004        16               512    15.144079  2.587267\n",
       "695         2.433129         4               512    15.046398  2.264456\n",
       "557         3.313144        32               512    12.836309  2.376126\n",
       "836         3.162279        16               512    14.701664  2.943887\n",
       "..               ...       ...               ...          ...       ...\n",
       "106         1.953589        32               256    14.320274  3.534916\n",
       "270         2.096943        16              1000    14.492863  4.989697\n",
       "860         2.884506         4              1000    11.458639  4.942381\n",
       "435         2.074887         4               256    15.417373  2.991174\n",
       "102         1.532505        32               256    13.582248  3.956279\n",
       "\n",
       "[800 rows x 5 columns]"
      ]
     },
     "execution_count": 16,
     "metadata": {},
     "output_type": "execute_result"
    }
   ],
   "source": [
    "train_set_num_without_label=train_set_num.drop(\"Price\", axis=1)\n",
    "train_set_num_without_label"
   ]
  },
  {
   "cell_type": "code",
   "execution_count": 17,
   "id": "8adaeeb4",
   "metadata": {
    "execution": {
     "iopub.execute_input": "2024-01-28T13:39:10.417578Z",
     "iopub.status.busy": "2024-01-28T13:39:10.417193Z",
     "iopub.status.idle": "2024-01-28T13:39:10.611750Z",
     "shell.execute_reply": "2024-01-28T13:39:10.610253Z"
    },
    "papermill": {
     "duration": 0.214616,
     "end_time": "2024-01-28T13:39:10.614662",
     "exception": false,
     "start_time": "2024-01-28T13:39:10.400046",
     "status": "completed"
    },
    "tags": []
   },
   "outputs": [
    {
     "data": {
      "text/html": [
       "<style>#sk-container-id-1 {color: black;background-color: white;}#sk-container-id-1 pre{padding: 0;}#sk-container-id-1 div.sk-toggleable {background-color: white;}#sk-container-id-1 label.sk-toggleable__label {cursor: pointer;display: block;width: 100%;margin-bottom: 0;padding: 0.3em;box-sizing: border-box;text-align: center;}#sk-container-id-1 label.sk-toggleable__label-arrow:before {content: \"▸\";float: left;margin-right: 0.25em;color: #696969;}#sk-container-id-1 label.sk-toggleable__label-arrow:hover:before {color: black;}#sk-container-id-1 div.sk-estimator:hover label.sk-toggleable__label-arrow:before {color: black;}#sk-container-id-1 div.sk-toggleable__content {max-height: 0;max-width: 0;overflow: hidden;text-align: left;background-color: #f0f8ff;}#sk-container-id-1 div.sk-toggleable__content pre {margin: 0.2em;color: black;border-radius: 0.25em;background-color: #f0f8ff;}#sk-container-id-1 input.sk-toggleable__control:checked~div.sk-toggleable__content {max-height: 200px;max-width: 100%;overflow: auto;}#sk-container-id-1 input.sk-toggleable__control:checked~label.sk-toggleable__label-arrow:before {content: \"▾\";}#sk-container-id-1 div.sk-estimator input.sk-toggleable__control:checked~label.sk-toggleable__label {background-color: #d4ebff;}#sk-container-id-1 div.sk-label input.sk-toggleable__control:checked~label.sk-toggleable__label {background-color: #d4ebff;}#sk-container-id-1 input.sk-hidden--visually {border: 0;clip: rect(1px 1px 1px 1px);clip: rect(1px, 1px, 1px, 1px);height: 1px;margin: -1px;overflow: hidden;padding: 0;position: absolute;width: 1px;}#sk-container-id-1 div.sk-estimator {font-family: monospace;background-color: #f0f8ff;border: 1px dotted black;border-radius: 0.25em;box-sizing: border-box;margin-bottom: 0.5em;}#sk-container-id-1 div.sk-estimator:hover {background-color: #d4ebff;}#sk-container-id-1 div.sk-parallel-item::after {content: \"\";width: 100%;border-bottom: 1px solid gray;flex-grow: 1;}#sk-container-id-1 div.sk-label:hover label.sk-toggleable__label {background-color: #d4ebff;}#sk-container-id-1 div.sk-serial::before {content: \"\";position: absolute;border-left: 1px solid gray;box-sizing: border-box;top: 0;bottom: 0;left: 50%;z-index: 0;}#sk-container-id-1 div.sk-serial {display: flex;flex-direction: column;align-items: center;background-color: white;padding-right: 0.2em;padding-left: 0.2em;position: relative;}#sk-container-id-1 div.sk-item {position: relative;z-index: 1;}#sk-container-id-1 div.sk-parallel {display: flex;align-items: stretch;justify-content: center;background-color: white;position: relative;}#sk-container-id-1 div.sk-item::before, #sk-container-id-1 div.sk-parallel-item::before {content: \"\";position: absolute;border-left: 1px solid gray;box-sizing: border-box;top: 0;bottom: 0;left: 50%;z-index: -1;}#sk-container-id-1 div.sk-parallel-item {display: flex;flex-direction: column;z-index: 1;position: relative;background-color: white;}#sk-container-id-1 div.sk-parallel-item:first-child::after {align-self: flex-end;width: 50%;}#sk-container-id-1 div.sk-parallel-item:last-child::after {align-self: flex-start;width: 50%;}#sk-container-id-1 div.sk-parallel-item:only-child::after {width: 0;}#sk-container-id-1 div.sk-dashed-wrapped {border: 1px dashed gray;margin: 0 0.4em 0.5em 0.4em;box-sizing: border-box;padding-bottom: 0.4em;background-color: white;}#sk-container-id-1 div.sk-label label {font-family: monospace;font-weight: bold;display: inline-block;line-height: 1.2em;}#sk-container-id-1 div.sk-label-container {text-align: center;}#sk-container-id-1 div.sk-container {/* jupyter's `normalize.less` sets `[hidden] { display: none; }` but bootstrap.min.css set `[hidden] { display: none !important; }` so we also need the `!important` here to be able to override the default hidden behavior on the sphinx rendered scikit-learn.org. See: https://github.com/scikit-learn/scikit-learn/issues/21755 */display: inline-block !important;position: relative;}#sk-container-id-1 div.sk-text-repr-fallback {display: none;}</style><div id=\"sk-container-id-1\" class=\"sk-top-container\"><div class=\"sk-text-repr-fallback\"><pre>SimpleImputer()</pre><b>In a Jupyter environment, please rerun this cell to show the HTML representation or trust the notebook. <br />On GitHub, the HTML representation is unable to render, please try loading this page with nbviewer.org.</b></div><div class=\"sk-container\" hidden><div class=\"sk-item\"><div class=\"sk-estimator sk-toggleable\"><input class=\"sk-toggleable__control sk-hidden--visually\" id=\"sk-estimator-id-1\" type=\"checkbox\" checked><label for=\"sk-estimator-id-1\" class=\"sk-toggleable__label sk-toggleable__label-arrow\">SimpleImputer</label><div class=\"sk-toggleable__content\"><pre>SimpleImputer()</pre></div></div></div></div></div>"
      ],
      "text/plain": [
       "SimpleImputer()"
      ]
     },
     "execution_count": 17,
     "metadata": {},
     "output_type": "execute_result"
    }
   ],
   "source": [
    "from sklearn.impute import SimpleImputer\n",
    "imputer = SimpleImputer(strategy=\"mean\")\n",
    "imputer.fit(train_set_num_without_label)"
   ]
  },
  {
   "cell_type": "code",
   "execution_count": 18,
   "id": "7ef6285e",
   "metadata": {
    "execution": {
     "iopub.execute_input": "2024-01-28T13:39:10.647828Z",
     "iopub.status.busy": "2024-01-28T13:39:10.647427Z",
     "iopub.status.idle": "2024-01-28T13:39:10.655825Z",
     "shell.execute_reply": "2024-01-28T13:39:10.654487Z"
    },
    "papermill": {
     "duration": 0.027893,
     "end_time": "2024-01-28T13:39:10.658359",
     "exception": false,
     "start_time": "2024-01-28T13:39:10.630466",
     "status": "completed"
    },
    "tags": []
   },
   "outputs": [
    {
     "data": {
      "text/plain": [
       "array([  2.74584107,  15.33      , 586.49      ,  14.06341824,\n",
       "         3.47738464])"
      ]
     },
     "execution_count": 18,
     "metadata": {},
     "output_type": "execute_result"
    }
   ],
   "source": [
    "imputer.statistics_"
   ]
  },
  {
   "cell_type": "code",
   "execution_count": null,
   "id": "228a0571",
   "metadata": {
    "papermill": {
     "duration": 0.015037,
     "end_time": "2024-01-28T13:39:10.688730",
     "exception": false,
     "start_time": "2024-01-28T13:39:10.673693",
     "status": "completed"
    },
    "tags": []
   },
   "outputs": [],
   "source": []
  },
  {
   "cell_type": "code",
   "execution_count": 19,
   "id": "9326f035",
   "metadata": {
    "execution": {
     "iopub.execute_input": "2024-01-28T13:39:10.721618Z",
     "iopub.status.busy": "2024-01-28T13:39:10.721199Z",
     "iopub.status.idle": "2024-01-28T13:39:10.733213Z",
     "shell.execute_reply": "2024-01-28T13:39:10.732357Z"
    },
    "papermill": {
     "duration": 0.031375,
     "end_time": "2024-01-28T13:39:10.735414",
     "exception": false,
     "start_time": "2024-01-28T13:39:10.704039",
     "status": "completed"
    },
    "tags": []
   },
   "outputs": [
    {
     "data": {
      "text/html": [
       "<div>\n",
       "<style scoped>\n",
       "    .dataframe tbody tr th:only-of-type {\n",
       "        vertical-align: middle;\n",
       "    }\n",
       "\n",
       "    .dataframe tbody tr th {\n",
       "        vertical-align: top;\n",
       "    }\n",
       "\n",
       "    .dataframe thead th {\n",
       "        text-align: right;\n",
       "    }\n",
       "</style>\n",
       "<table border=\"1\" class=\"dataframe\">\n",
       "  <thead>\n",
       "    <tr style=\"text-align: right;\">\n",
       "      <th></th>\n",
       "      <th>Processor_Speed</th>\n",
       "      <th>RAM_Size</th>\n",
       "      <th>Storage_Capacity</th>\n",
       "      <th>Screen_Size</th>\n",
       "      <th>Weight</th>\n",
       "    </tr>\n",
       "  </thead>\n",
       "  <tbody>\n",
       "  </tbody>\n",
       "</table>\n",
       "</div>"
      ],
      "text/plain": [
       "Empty DataFrame\n",
       "Columns: [Processor_Speed, RAM_Size, Storage_Capacity, Screen_Size, Weight]\n",
       "Index: []"
      ]
     },
     "execution_count": 19,
     "metadata": {},
     "output_type": "execute_result"
    }
   ],
   "source": [
    "null_rows_index=train_set_num_without_label.isnull().any(axis=1)\n",
    "train_set_num_without_label.loc[null_rows_index].head()"
   ]
  },
  {
   "cell_type": "code",
   "execution_count": 20,
   "id": "4da9599c",
   "metadata": {
    "execution": {
     "iopub.execute_input": "2024-01-28T13:39:10.769547Z",
     "iopub.status.busy": "2024-01-28T13:39:10.769124Z",
     "iopub.status.idle": "2024-01-28T13:39:10.779021Z",
     "shell.execute_reply": "2024-01-28T13:39:10.777929Z"
    },
    "papermill": {
     "duration": 0.031172,
     "end_time": "2024-01-28T13:39:10.782073",
     "exception": false,
     "start_time": "2024-01-28T13:39:10.750901",
     "status": "completed"
    },
    "tags": []
   },
   "outputs": [
    {
     "data": {
      "text/plain": [
       "array(['Processor_Speed', 'RAM_Size', 'Storage_Capacity', 'Screen_Size',\n",
       "       'Weight'], dtype=object)"
      ]
     },
     "execution_count": 20,
     "metadata": {},
     "output_type": "execute_result"
    }
   ],
   "source": [
    "X_array=imputer.transform(train_set_num_without_label)\n",
    "imputer.feature_names_in_"
   ]
  },
  {
   "cell_type": "code",
   "execution_count": 21,
   "id": "a41f630a",
   "metadata": {
    "execution": {
     "iopub.execute_input": "2024-01-28T13:39:10.817831Z",
     "iopub.status.busy": "2024-01-28T13:39:10.817391Z",
     "iopub.status.idle": "2024-01-28T13:39:10.825007Z",
     "shell.execute_reply": "2024-01-28T13:39:10.824102Z"
    },
    "papermill": {
     "duration": 0.028575,
     "end_time": "2024-01-28T13:39:10.827096",
     "exception": false,
     "start_time": "2024-01-28T13:39:10.798521",
     "status": "completed"
    },
    "tags": []
   },
   "outputs": [
    {
     "data": {
      "text/plain": [
       "array([[   3.79963904,    8.        , 1000.        ,   12.85300654,\n",
       "           2.15167756],\n",
       "       [   3.29800445,   16.        ,  512.        ,   15.14407863,\n",
       "           2.58726682],\n",
       "       [   2.43312948,    4.        ,  512.        ,   15.04639791,\n",
       "           2.26445647],\n",
       "       ...,\n",
       "       [   2.8845056 ,    4.        , 1000.        ,   11.45863917,\n",
       "           4.94238142],\n",
       "       [   2.07488651,    4.        ,  256.        ,   15.4173733 ,\n",
       "           2.99117442],\n",
       "       [   1.53250481,   32.        ,  256.        ,   13.5822485 ,\n",
       "           3.95627919]])"
      ]
     },
     "execution_count": 21,
     "metadata": {},
     "output_type": "execute_result"
    }
   ],
   "source": [
    "X_array"
   ]
  },
  {
   "cell_type": "code",
   "execution_count": 22,
   "id": "103a4380",
   "metadata": {
    "execution": {
     "iopub.execute_input": "2024-01-28T13:39:10.924658Z",
     "iopub.status.busy": "2024-01-28T13:39:10.923459Z",
     "iopub.status.idle": "2024-01-28T13:39:10.935899Z",
     "shell.execute_reply": "2024-01-28T13:39:10.935046Z"
    },
    "papermill": {
     "duration": 0.095203,
     "end_time": "2024-01-28T13:39:10.938332",
     "exception": false,
     "start_time": "2024-01-28T13:39:10.843129",
     "status": "completed"
    },
    "tags": []
   },
   "outputs": [
    {
     "data": {
      "text/html": [
       "<div>\n",
       "<style scoped>\n",
       "    .dataframe tbody tr th:only-of-type {\n",
       "        vertical-align: middle;\n",
       "    }\n",
       "\n",
       "    .dataframe tbody tr th {\n",
       "        vertical-align: top;\n",
       "    }\n",
       "\n",
       "    .dataframe thead th {\n",
       "        text-align: right;\n",
       "    }\n",
       "</style>\n",
       "<table border=\"1\" class=\"dataframe\">\n",
       "  <thead>\n",
       "    <tr style=\"text-align: right;\">\n",
       "      <th></th>\n",
       "      <th>Processor_Speed</th>\n",
       "      <th>RAM_Size</th>\n",
       "      <th>Storage_Capacity</th>\n",
       "      <th>Screen_Size</th>\n",
       "      <th>Weight</th>\n",
       "    </tr>\n",
       "  </thead>\n",
       "  <tbody>\n",
       "  </tbody>\n",
       "</table>\n",
       "</div>"
      ],
      "text/plain": [
       "Empty DataFrame\n",
       "Columns: [Processor_Speed, RAM_Size, Storage_Capacity, Screen_Size, Weight]\n",
       "Index: []"
      ]
     },
     "execution_count": 22,
     "metadata": {},
     "output_type": "execute_result"
    }
   ],
   "source": [
    "X=pd.DataFrame(X_array,columns=train_set_num_without_label.columns, index = train_set_num_without_label.index)\n",
    "X.loc[null_rows_index].head()"
   ]
  },
  {
   "cell_type": "code",
   "execution_count": 23,
   "id": "21ef92ef",
   "metadata": {
    "execution": {
     "iopub.execute_input": "2024-01-28T13:39:10.974587Z",
     "iopub.status.busy": "2024-01-28T13:39:10.973364Z",
     "iopub.status.idle": "2024-01-28T13:39:10.991654Z",
     "shell.execute_reply": "2024-01-28T13:39:10.990551Z"
    },
    "papermill": {
     "duration": 0.038788,
     "end_time": "2024-01-28T13:39:10.994196",
     "exception": false,
     "start_time": "2024-01-28T13:39:10.955408",
     "status": "completed"
    },
    "tags": []
   },
   "outputs": [
    {
     "data": {
      "text/html": [
       "<div>\n",
       "<style scoped>\n",
       "    .dataframe tbody tr th:only-of-type {\n",
       "        vertical-align: middle;\n",
       "    }\n",
       "\n",
       "    .dataframe tbody tr th {\n",
       "        vertical-align: top;\n",
       "    }\n",
       "\n",
       "    .dataframe thead th {\n",
       "        text-align: right;\n",
       "    }\n",
       "</style>\n",
       "<table border=\"1\" class=\"dataframe\">\n",
       "  <thead>\n",
       "    <tr style=\"text-align: right;\">\n",
       "      <th></th>\n",
       "      <th>Processor_Speed</th>\n",
       "      <th>RAM_Size</th>\n",
       "      <th>Storage_Capacity</th>\n",
       "      <th>Screen_Size</th>\n",
       "      <th>Weight</th>\n",
       "    </tr>\n",
       "  </thead>\n",
       "  <tbody>\n",
       "    <tr>\n",
       "      <th>29</th>\n",
       "      <td>3.799639</td>\n",
       "      <td>8.0</td>\n",
       "      <td>1000.0</td>\n",
       "      <td>12.853007</td>\n",
       "      <td>2.151678</td>\n",
       "    </tr>\n",
       "    <tr>\n",
       "      <th>535</th>\n",
       "      <td>3.298004</td>\n",
       "      <td>16.0</td>\n",
       "      <td>512.0</td>\n",
       "      <td>15.144079</td>\n",
       "      <td>2.587267</td>\n",
       "    </tr>\n",
       "    <tr>\n",
       "      <th>695</th>\n",
       "      <td>2.433129</td>\n",
       "      <td>4.0</td>\n",
       "      <td>512.0</td>\n",
       "      <td>15.046398</td>\n",
       "      <td>2.264456</td>\n",
       "    </tr>\n",
       "    <tr>\n",
       "      <th>557</th>\n",
       "      <td>3.313144</td>\n",
       "      <td>32.0</td>\n",
       "      <td>512.0</td>\n",
       "      <td>12.836309</td>\n",
       "      <td>2.376126</td>\n",
       "    </tr>\n",
       "    <tr>\n",
       "      <th>836</th>\n",
       "      <td>3.162279</td>\n",
       "      <td>16.0</td>\n",
       "      <td>512.0</td>\n",
       "      <td>14.701664</td>\n",
       "      <td>2.943887</td>\n",
       "    </tr>\n",
       "    <tr>\n",
       "      <th>...</th>\n",
       "      <td>...</td>\n",
       "      <td>...</td>\n",
       "      <td>...</td>\n",
       "      <td>...</td>\n",
       "      <td>...</td>\n",
       "    </tr>\n",
       "    <tr>\n",
       "      <th>106</th>\n",
       "      <td>1.953589</td>\n",
       "      <td>32.0</td>\n",
       "      <td>256.0</td>\n",
       "      <td>14.320274</td>\n",
       "      <td>3.534916</td>\n",
       "    </tr>\n",
       "    <tr>\n",
       "      <th>270</th>\n",
       "      <td>2.096943</td>\n",
       "      <td>16.0</td>\n",
       "      <td>1000.0</td>\n",
       "      <td>14.492863</td>\n",
       "      <td>4.989697</td>\n",
       "    </tr>\n",
       "    <tr>\n",
       "      <th>860</th>\n",
       "      <td>2.884506</td>\n",
       "      <td>4.0</td>\n",
       "      <td>1000.0</td>\n",
       "      <td>11.458639</td>\n",
       "      <td>4.942381</td>\n",
       "    </tr>\n",
       "    <tr>\n",
       "      <th>435</th>\n",
       "      <td>2.074887</td>\n",
       "      <td>4.0</td>\n",
       "      <td>256.0</td>\n",
       "      <td>15.417373</td>\n",
       "      <td>2.991174</td>\n",
       "    </tr>\n",
       "    <tr>\n",
       "      <th>102</th>\n",
       "      <td>1.532505</td>\n",
       "      <td>32.0</td>\n",
       "      <td>256.0</td>\n",
       "      <td>13.582248</td>\n",
       "      <td>3.956279</td>\n",
       "    </tr>\n",
       "  </tbody>\n",
       "</table>\n",
       "<p>800 rows × 5 columns</p>\n",
       "</div>"
      ],
      "text/plain": [
       "     Processor_Speed  RAM_Size  Storage_Capacity  Screen_Size    Weight\n",
       "29          3.799639       8.0            1000.0    12.853007  2.151678\n",
       "535         3.298004      16.0             512.0    15.144079  2.587267\n",
       "695         2.433129       4.0             512.0    15.046398  2.264456\n",
       "557         3.313144      32.0             512.0    12.836309  2.376126\n",
       "836         3.162279      16.0             512.0    14.701664  2.943887\n",
       "..               ...       ...               ...          ...       ...\n",
       "106         1.953589      32.0             256.0    14.320274  3.534916\n",
       "270         2.096943      16.0            1000.0    14.492863  4.989697\n",
       "860         2.884506       4.0            1000.0    11.458639  4.942381\n",
       "435         2.074887       4.0             256.0    15.417373  2.991174\n",
       "102         1.532505      32.0             256.0    13.582248  3.956279\n",
       "\n",
       "[800 rows x 5 columns]"
      ]
     },
     "execution_count": 23,
     "metadata": {},
     "output_type": "execute_result"
    }
   ],
   "source": [
    "X"
   ]
  },
  {
   "cell_type": "code",
   "execution_count": 24,
   "id": "a61d34d6",
   "metadata": {
    "execution": {
     "iopub.execute_input": "2024-01-28T13:39:11.030289Z",
     "iopub.status.busy": "2024-01-28T13:39:11.029828Z",
     "iopub.status.idle": "2024-01-28T13:39:11.468745Z",
     "shell.execute_reply": "2024-01-28T13:39:11.466247Z"
    },
    "papermill": {
     "duration": 0.460313,
     "end_time": "2024-01-28T13:39:11.471506",
     "exception": false,
     "start_time": "2024-01-28T13:39:11.011193",
     "status": "completed"
    },
    "tags": []
   },
   "outputs": [
    {
     "data": {
      "text/plain": [
       "array([-1, -1, -1, -1,  1, -1,  1, -1, -1])"
      ]
     },
     "execution_count": 24,
     "metadata": {},
     "output_type": "execute_result"
    }
   ],
   "source": [
    "from sklearn.ensemble import IsolationForest\n",
    "isolation_forest=IsolationForest(random_state=42)\n",
    "outlier_predict=isolation_forest.fit_predict(X)\n",
    "outlier_predict[:9]"
   ]
  },
  {
   "cell_type": "code",
   "execution_count": 25,
   "id": "cfef7476",
   "metadata": {
    "execution": {
     "iopub.execute_input": "2024-01-28T13:39:11.512121Z",
     "iopub.status.busy": "2024-01-28T13:39:11.511683Z",
     "iopub.status.idle": "2024-01-28T13:39:11.527484Z",
     "shell.execute_reply": "2024-01-28T13:39:11.526233Z"
    },
    "papermill": {
     "duration": 0.038837,
     "end_time": "2024-01-28T13:39:11.529920",
     "exception": false,
     "start_time": "2024-01-28T13:39:11.491083",
     "status": "completed"
    },
    "tags": []
   },
   "outputs": [
    {
     "data": {
      "text/html": [
       "<div>\n",
       "<style scoped>\n",
       "    .dataframe tbody tr th:only-of-type {\n",
       "        vertical-align: middle;\n",
       "    }\n",
       "\n",
       "    .dataframe tbody tr th {\n",
       "        vertical-align: top;\n",
       "    }\n",
       "\n",
       "    .dataframe thead th {\n",
       "        text-align: right;\n",
       "    }\n",
       "</style>\n",
       "<table border=\"1\" class=\"dataframe\">\n",
       "  <thead>\n",
       "    <tr style=\"text-align: right;\">\n",
       "      <th></th>\n",
       "      <th>Brand</th>\n",
       "    </tr>\n",
       "  </thead>\n",
       "  <tbody>\n",
       "    <tr>\n",
       "      <th>29</th>\n",
       "      <td>Asus</td>\n",
       "    </tr>\n",
       "    <tr>\n",
       "      <th>535</th>\n",
       "      <td>Acer</td>\n",
       "    </tr>\n",
       "    <tr>\n",
       "      <th>695</th>\n",
       "      <td>HP</td>\n",
       "    </tr>\n",
       "    <tr>\n",
       "      <th>557</th>\n",
       "      <td>Acer</td>\n",
       "    </tr>\n",
       "    <tr>\n",
       "      <th>836</th>\n",
       "      <td>HP</td>\n",
       "    </tr>\n",
       "    <tr>\n",
       "      <th>596</th>\n",
       "      <td>Acer</td>\n",
       "    </tr>\n",
       "    <tr>\n",
       "      <th>165</th>\n",
       "      <td>HP</td>\n",
       "    </tr>\n",
       "    <tr>\n",
       "      <th>918</th>\n",
       "      <td>Acer</td>\n",
       "    </tr>\n",
       "    <tr>\n",
       "      <th>495</th>\n",
       "      <td>Dell</td>\n",
       "    </tr>\n",
       "  </tbody>\n",
       "</table>\n",
       "</div>"
      ],
      "text/plain": [
       "    Brand\n",
       "29   Asus\n",
       "535  Acer\n",
       "695    HP\n",
       "557  Acer\n",
       "836    HP\n",
       "596  Acer\n",
       "165    HP\n",
       "918  Acer\n",
       "495  Dell"
      ]
     },
     "execution_count": 25,
     "metadata": {},
     "output_type": "execute_result"
    }
   ],
   "source": [
    "laptops_cat=train_set[[\"Brand\"]]\n",
    "laptops_cat.head(9)"
   ]
  },
  {
   "cell_type": "code",
   "execution_count": 26,
   "id": "a1186d93",
   "metadata": {
    "execution": {
     "iopub.execute_input": "2024-01-28T13:39:11.570398Z",
     "iopub.status.busy": "2024-01-28T13:39:11.569089Z",
     "iopub.status.idle": "2024-01-28T13:39:11.586707Z",
     "shell.execute_reply": "2024-01-28T13:39:11.585580Z"
    },
    "papermill": {
     "duration": 0.0426,
     "end_time": "2024-01-28T13:39:11.589872",
     "exception": false,
     "start_time": "2024-01-28T13:39:11.547272",
     "status": "completed"
    },
    "tags": []
   },
   "outputs": [
    {
     "data": {
      "text/plain": [
       "array([[0., 1., 0., 0., 0.],\n",
       "       [1., 0., 0., 0., 0.],\n",
       "       [0., 0., 0., 1., 0.],\n",
       "       ...,\n",
       "       [0., 0., 1., 0., 0.],\n",
       "       [0., 1., 0., 0., 0.],\n",
       "       [0., 1., 0., 0., 0.]])"
      ]
     },
     "execution_count": 26,
     "metadata": {},
     "output_type": "execute_result"
    }
   ],
   "source": [
    "from sklearn.preprocessing import OneHotEncoder\n",
    "cat_encoder=OneHotEncoder(sparse_output=False)\n",
    "laptops_cat_encoded=cat_encoder.fit_transform(laptops_cat)\n",
    "laptops_cat_encoded"
   ]
  },
  {
   "cell_type": "code",
   "execution_count": 27,
   "id": "0379a949",
   "metadata": {
    "execution": {
     "iopub.execute_input": "2024-01-28T13:39:11.639260Z",
     "iopub.status.busy": "2024-01-28T13:39:11.638526Z",
     "iopub.status.idle": "2024-01-28T13:39:11.645884Z",
     "shell.execute_reply": "2024-01-28T13:39:11.644742Z"
    },
    "papermill": {
     "duration": 0.032807,
     "end_time": "2024-01-28T13:39:11.648309",
     "exception": false,
     "start_time": "2024-01-28T13:39:11.615502",
     "status": "completed"
    },
    "tags": []
   },
   "outputs": [
    {
     "data": {
      "text/plain": [
       "[array(['Acer', 'Asus', 'Dell', 'HP', 'Lenovo'], dtype=object)]"
      ]
     },
     "execution_count": 27,
     "metadata": {},
     "output_type": "execute_result"
    }
   ],
   "source": [
    "cat_encoder.categories_"
   ]
  },
  {
   "cell_type": "code",
   "execution_count": 28,
   "id": "ea03b859",
   "metadata": {
    "execution": {
     "iopub.execute_input": "2024-01-28T13:39:11.685095Z",
     "iopub.status.busy": "2024-01-28T13:39:11.684429Z",
     "iopub.status.idle": "2024-01-28T13:39:11.691282Z",
     "shell.execute_reply": "2024-01-28T13:39:11.690182Z"
    },
    "papermill": {
     "duration": 0.02782,
     "end_time": "2024-01-28T13:39:11.693471",
     "exception": false,
     "start_time": "2024-01-28T13:39:11.665651",
     "status": "completed"
    },
    "tags": []
   },
   "outputs": [
    {
     "data": {
      "text/plain": [
       "array(['Brand'], dtype=object)"
      ]
     },
     "execution_count": 28,
     "metadata": {},
     "output_type": "execute_result"
    }
   ],
   "source": [
    "cat_encoder.feature_names_in_"
   ]
  },
  {
   "cell_type": "code",
   "execution_count": 29,
   "id": "c5a29954",
   "metadata": {
    "execution": {
     "iopub.execute_input": "2024-01-28T13:39:11.730528Z",
     "iopub.status.busy": "2024-01-28T13:39:11.729819Z",
     "iopub.status.idle": "2024-01-28T13:39:11.737228Z",
     "shell.execute_reply": "2024-01-28T13:39:11.735984Z"
    },
    "papermill": {
     "duration": 0.028664,
     "end_time": "2024-01-28T13:39:11.739533",
     "exception": false,
     "start_time": "2024-01-28T13:39:11.710869",
     "status": "completed"
    },
    "tags": []
   },
   "outputs": [
    {
     "data": {
      "text/plain": [
       "array(['Brand_Acer', 'Brand_Asus', 'Brand_Dell', 'Brand_HP',\n",
       "       'Brand_Lenovo'], dtype=object)"
      ]
     },
     "execution_count": 29,
     "metadata": {},
     "output_type": "execute_result"
    }
   ],
   "source": [
    "cat_encoder.get_feature_names_out()"
   ]
  },
  {
   "cell_type": "raw",
   "id": "ace69bbf",
   "metadata": {
    "execution": {
     "iopub.execute_input": "2024-01-28T11:24:03.379384Z",
     "iopub.status.busy": "2024-01-28T11:24:03.378841Z",
     "iopub.status.idle": "2024-01-28T11:24:03.411639Z",
     "shell.execute_reply": "2024-01-28T11:24:03.410427Z",
     "shell.execute_reply.started": "2024-01-28T11:24:03.379347Z"
    },
    "papermill": {
     "duration": 0.018183,
     "end_time": "2024-01-28T13:39:11.775887",
     "exception": false,
     "start_time": "2024-01-28T13:39:11.757704",
     "status": "completed"
    },
    "tags": []
   },
   "source": []
  },
  {
   "cell_type": "code",
   "execution_count": 30,
   "id": "e211cb87",
   "metadata": {
    "execution": {
     "iopub.execute_input": "2024-01-28T13:39:11.817053Z",
     "iopub.status.busy": "2024-01-28T13:39:11.816388Z",
     "iopub.status.idle": "2024-01-28T13:39:11.828425Z",
     "shell.execute_reply": "2024-01-28T13:39:11.827272Z"
    },
    "papermill": {
     "duration": 0.033867,
     "end_time": "2024-01-28T13:39:11.830808",
     "exception": false,
     "start_time": "2024-01-28T13:39:11.796941",
     "status": "completed"
    },
    "tags": []
   },
   "outputs": [
    {
     "data": {
      "text/plain": [
       "array([[ 0.84274128, -0.71428571,  1.        , -0.38365894, -0.89892342],\n",
       "       [ 0.43860226, -0.14285714, -0.31182796,  0.38340353, -0.60757575],\n",
       "       [-0.25817928, -1.        , -0.31182796,  0.35069953, -0.82349026],\n",
       "       ...,\n",
       "       [ 0.10546929, -1.        ,  1.        , -0.85050016,  0.9676632 ],\n",
       "       [-0.54679566, -1.        , -1.        ,  0.47490396, -0.33741862],\n",
       "       [-0.98376236,  1.        , -1.        , -0.13950506,  0.30810012]])"
      ]
     },
     "execution_count": 30,
     "metadata": {},
     "output_type": "execute_result"
    }
   ],
   "source": [
    "from sklearn.preprocessing import MinMaxScaler\n",
    "min_max_scaler=MinMaxScaler(feature_range=(-1,1))\n",
    "laptops_minmax=min_max_scaler.fit_transform(X)\n",
    "laptops_minmax"
   ]
  },
  {
   "cell_type": "markdown",
   "id": "c128fe30",
   "metadata": {
    "papermill": {
     "duration": 0.020193,
     "end_time": "2024-01-28T13:39:11.869136",
     "exception": false,
     "start_time": "2024-01-28T13:39:11.848943",
     "status": "completed"
    },
    "tags": []
   },
   "source": []
  },
  {
   "cell_type": "code",
   "execution_count": 31,
   "id": "bf2f8e8b",
   "metadata": {
    "execution": {
     "iopub.execute_input": "2024-01-28T13:39:11.908181Z",
     "iopub.status.busy": "2024-01-28T13:39:11.907741Z",
     "iopub.status.idle": "2024-01-28T13:39:11.915793Z",
     "shell.execute_reply": "2024-01-28T13:39:11.914586Z"
    },
    "papermill": {
     "duration": 0.031051,
     "end_time": "2024-01-28T13:39:11.918438",
     "exception": false,
     "start_time": "2024-01-28T13:39:11.887387",
     "status": "completed"
    },
    "tags": []
   },
   "outputs": [
    {
     "data": {
      "text/plain": [
       "'target_scaler=StandardScaler()\\nscaled_labels = target_scaler.fit_transform(laptops_label.toframe())\\n\\nmodel = LinearRegression()\\nmodel.fit(housing[[\"median_income\"]], scaled_labels)\\nsome_new_data=housing[[\"median_income\"]].iloc[:5]\\n\\nscaled_predictions = model.predict(some_new_data)\\npredictions = target_scaler.inverse_transform(scaler_prediction)'"
      ]
     },
     "execution_count": 31,
     "metadata": {},
     "output_type": "execute_result"
    }
   ],
   "source": [
    "from sklearn.linear_model import LinearRegression\n",
    "\n",
    "\"\"\"target_scaler=StandardScaler()\n",
    "scaled_labels = target_scaler.fit_transform(laptops_label.toframe())\n",
    "\n",
    "model = LinearRegression()\n",
    "model.fit(housing[[\"median_income\"]], scaled_labels)\n",
    "some_new_data=housing[[\"median_income\"]].iloc[:5]\n",
    "\n",
    "scaled_predictions = model.predict(some_new_data)\n",
    "predictions = target_scaler.inverse_transform(scaler_prediction)\"\"\""
   ]
  },
  {
   "cell_type": "code",
   "execution_count": null,
   "id": "b2937fbb",
   "metadata": {
    "papermill": {
     "duration": 0.017849,
     "end_time": "2024-01-28T13:39:11.954619",
     "exception": false,
     "start_time": "2024-01-28T13:39:11.936770",
     "status": "completed"
    },
    "tags": []
   },
   "outputs": [],
   "source": []
  }
 ],
 "metadata": {
  "kaggle": {
   "accelerator": "none",
   "dataSources": [
    {
     "datasetId": 4334600,
     "sourceId": 7446899,
     "sourceType": "datasetVersion"
    }
   ],
   "dockerImageVersionId": 30635,
   "isGpuEnabled": false,
   "isInternetEnabled": true,
   "language": "python",
   "sourceType": "notebook"
  },
  "kernelspec": {
   "display_name": "Python 3",
   "language": "python",
   "name": "python3"
  },
  "language_info": {
   "codemirror_mode": {
    "name": "ipython",
    "version": 3
   },
   "file_extension": ".py",
   "mimetype": "text/x-python",
   "name": "python",
   "nbconvert_exporter": "python",
   "pygments_lexer": "ipython3",
   "version": "3.10.12"
  },
  "papermill": {
   "default_parameters": {},
   "duration": 10.510053,
   "end_time": "2024-01-28T13:39:12.694832",
   "environment_variables": {},
   "exception": null,
   "input_path": "__notebook__.ipynb",
   "output_path": "__notebook__.ipynb",
   "parameters": {},
   "start_time": "2024-01-28T13:39:02.184779",
   "version": "2.4.0"
  }
 },
 "nbformat": 4,
 "nbformat_minor": 5
}
